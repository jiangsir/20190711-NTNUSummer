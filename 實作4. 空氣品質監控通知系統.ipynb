{
 "cells": [
  {
   "cell_type": "markdown",
   "metadata": {},
   "source": [
    "# 請設計一個監控程式，每隔 5 分鐘監視鳳山站 pm2.5 的數值，當超過一定數值的時候，就發送 LINE 訊息通知。\n",
    "\n",
    "PM2.5 讀取 URL: <a href='https://opendata.epa.gov.tw/ws/Data/ATM00625/?$format=json'>空氣品質 Open Data</a>\n",
    "\n",
    "目標: 鳳山站\n",
    "\n",
    "在發現數值高於一定值的時候，發送 LINE 通知。\n"
   ]
  },
  {
   "cell_type": "code",
   "execution_count": null,
   "metadata": {},
   "outputs": [],
   "source": []
  }
 ],
 "metadata": {
  "kernelspec": {
   "display_name": "Python 3",
   "language": "python",
   "name": "python3"
  },
  "language_info": {
   "codemirror_mode": {
    "name": "ipython",
    "version": 3
   },
   "file_extension": ".py",
   "mimetype": "text/x-python",
   "name": "python",
   "nbconvert_exporter": "python",
   "pygments_lexer": "ipython3",
   "version": "3.6.5"
  }
 },
 "nbformat": 4,
 "nbformat_minor": 2
}
