{
 "cells": [
  {
   "cell_type": "markdown",
   "metadata": {},
   "source": [
    "# 請設計一個監控程式，每隔 5 分鐘監視鳳山站 pm2.5 的數值，當超過一定數值的時候，就發送 LINE 訊息通知。\n",
    "\n",
    "PM2.5 讀取 URL: <a href='https://opendata.epa.gov.tw/ws/Data/ATM00625/?$format=json'>空氣品質 Open Data</a>\n",
    "\n",
    "目標: 鳳山站\n",
    "\n",
    "在發現數值高於一定值的時候，發送 LINE 通知。\n"
   ]
  },
  {
   "cell_type": "markdown",
   "metadata": {},
   "source": [
    "## 監控空氣品質程式"
   ]
  },
  {
   "cell_type": "code",
   "execution_count": 3,
   "metadata": {},
   "outputs": [
    {
     "name": "stdout",
     "output_type": "stream",
     "text": [
      "{'Site': '林園', 'county': '高雄市', 'PM25': '', 'DataCreationDate': '2019-07-10 16:00', 'ItemUnit': 'μg/m3'}\n"
     ]
    },
    {
     "name": "stderr",
     "output_type": "stream",
     "text": [
      "C:\\Users\\jiangsir\\Anaconda3\\lib\\site-packages\\urllib3\\connectionpool.py:852: InsecureRequestWarning: Unverified HTTPS request is being made. Adding certificate verification is strongly advised. See: https://urllib3.readthedocs.io/en/latest/advanced-usage.html#ssl-warnings\n",
      "  InsecureRequestWarning)\n"
     ]
    }
   ],
   "source": [
    "import requests\n",
    "\n",
    "# 若來源資料為 https 則加上 verify=False 參數\n",
    "response = requests.get('https://opendata.epa.gov.tw/ws/Data/ATM00625/?$format=json', verify=False)\n",
    "sites = response.json()\n",
    "for site in sites:\n",
    "    if site['Site'] == '林園':\n",
    "        print(site)\n"
   ]
  }
 ],
 "metadata": {
  "kernelspec": {
   "display_name": "Python 3",
   "language": "python",
   "name": "python3"
  },
  "language_info": {
   "codemirror_mode": {
    "name": "ipython",
    "version": 3
   },
   "file_extension": ".py",
   "mimetype": "text/x-python",
   "name": "python",
   "nbconvert_exporter": "python",
   "pygments_lexer": "ipython3",
   "version": "3.6.5"
  }
 },
 "nbformat": 4,
 "nbformat_minor": 2
}
