{
 "cells": [
  {
   "cell_type": "markdown",
   "metadata": {
    "colab_type": "text",
    "id": "7ofW3sifTT9y"
   },
   "source": [
    "# 實作範例 2.0 - NumPy 基本操作"
   ]
  },
  {
   "cell_type": "markdown",
   "metadata": {
    "colab_type": "text",
    "id": "XD61JtbrTT90"
   },
   "source": [
    "本章補充另一個在資料分析與運算上常用的 Python 套件「**NumPy**」的基本操作。"
   ]
  },
  {
   "cell_type": "markdown",
   "metadata": {
    "colab_type": "text",
    "id": "u6lW5lxnTT92"
   },
   "source": [
    "## NumPy 簡介與安裝\n",
    "\n",
    "### NumPy 是什麼？\n",
    "\n",
    "[NumPy](https://www.numpy.org/) 是一個專門用在 Python 中進行高速數值運算的 Python 套件，它提供了一種稱為 `ndarray` 的資料型態，專門用來儲存高維矩陣的資料與運算；另外 NumPy 也提供了許多豐富的科學計算的函式。\n",
    "\n",
    "### 安裝套件\n",
    " \n",
    "與前面相同，讀者可以在 Windows 下使用 [Anaconda](https://www.anaconda.com/download/ ) 已經幫你安裝好的 NumPy 套件，或者使用 Anaconda 下的 `conda` 套件管理系統安裝與升級 NumPy：\n",
    "```\n",
    "conda install numpy\n",
    "```\n",
    "\n",
    "較有經驗或者不想使用 Anaconda 的讀者也能使用 Python 內建的 `pip` 套件管理工具安裝：\n",
    "```\n",
    "pip install numpy\n",
    "```"
   ]
  },
  {
   "cell_type": "markdown",
   "metadata": {
    "colab_type": "text",
    "id": "RKlyiU3wTT94"
   },
   "source": [
    "### 載入 NumPy 套件"
   ]
  },
  {
   "cell_type": "code",
   "execution_count": 2,
   "metadata": {
    "colab": {},
    "colab_type": "code",
    "id": "E57gjVcjTT95"
   },
   "outputs": [],
   "source": [
    "import numpy as np # 載入 numpy 套件"
   ]
  },
  {
   "attachments": {},
   "cell_type": "markdown",
   "metadata": {
    "colab_type": "text",
    "id": "TXUaftCMTT9_"
   },
   "source": [
    "## python list vs ndarray\n",
    "\n",
    "![](images/python_list_array.png)\n",
    "\n",
    "\n",
    "    python list 的缺點是隨機存取速度慢。但可以自由改變長度，隨機增刪很快，可以存放不同資料型態。\n",
    "    \n",
    "    ndarray 就是傳統意義上的 array，也就是在記憶體當中連續存放的元素，隨機存取的速度快。numpy.array 也有一些缺點，例如 numpy.array 不能夠自由增減元素，裡面也不能存取不同型態的資料（否則整個資料型態會以儲存最大記憶體的型態存取），在操作上會很不方便。\n",
    "    \n",
    "    有兩全其美的方案嗎?\n",
    "\n",
    "## ndarray\n",
    "\n",
    "`ndarray` 是 NumPy 裡最重要的資料結構，正如其名所示，它是一種用來儲存多維矩陣 (N-Dimentional ARRAY) 的資料型態，NumPy 對 `ndarray`提供了許多的操作函式，以下將一一介紹。\n",
    "\n",
    "### 產生 ndarray 物件\n",
    "\n",
    "我們可以用 `numpy.array()` 來產生一個 `ndarray` 物件："
   ]
  },
  {
   "cell_type": "code",
   "execution_count": 5,
   "metadata": {
    "colab": {
     "base_uri": "https://localhost:8080/",
     "height": 54
    },
    "colab_type": "code",
    "executionInfo": {
     "elapsed": 634,
     "status": "ok",
     "timestamp": 1562219512716,
     "user": {
      "displayName": "Jiangsir jiang",
      "photoUrl": "https://lh3.googleusercontent.com/-IRgxJH2IITY/AAAAAAAAAAI/AAAAAAAAEPs/XqkMV_OB0lM/s64/photo.jpg",
      "userId": "14587696984096323544"
     },
     "user_tz": -480
    },
    "id": "KhjivA1sTT-A",
    "outputId": "844560b7-f46c-4c7b-fbe6-0b279219bf7b"
   },
   "outputs": [
    {
     "name": "stdout",
     "output_type": "stream",
     "text": [
      "[[1 2 3]\n",
      " [2 3 4]]\n",
      "array 類別: <class 'numpy.ndarray'>\n"
     ]
    }
   ],
   "source": [
    "array = np.array([[1, 2, 3], [2, 3, 4]])\n",
    "print(array)\n",
    "print('array 類別:', type(array))"
   ]
  },
  {
   "cell_type": "markdown",
   "metadata": {
    "colab_type": "text",
    "id": "hMzsdy3dTT-G"
   },
   "source": [
    "產生之後，我們可以用 `ndarray.ndim`、`ndarray.shape`、`ndarray.size`來取得這個 `ndarray`的**維度**、**行列數**與**元素個數**："
   ]
  },
  {
   "cell_type": "code",
   "execution_count": 6,
   "metadata": {
    "colab": {
     "base_uri": "https://localhost:8080/",
     "height": 90
    },
    "colab_type": "code",
    "executionInfo": {
     "elapsed": 495,
     "status": "ok",
     "timestamp": 1562219586312,
     "user": {
      "displayName": "Jiangsir jiang",
      "photoUrl": "https://lh3.googleusercontent.com/-IRgxJH2IITY/AAAAAAAAAAI/AAAAAAAAEPs/XqkMV_OB0lM/s64/photo.jpg",
      "userId": "14587696984096323544"
     },
     "user_tz": -480
    },
    "id": "NTxSIIIdTT-H",
    "outputId": "c09e8d4d-49b9-4800-cee9-d5d0d9baa846"
   },
   "outputs": [
    {
     "name": "stdout",
     "output_type": "stream",
     "text": [
      "Number of dimension(維度): 2\n",
      "Number of rows/columns: (2, 3)\n",
      "Number of elements(元素個數): 6\n"
     ]
    }
   ],
   "source": [
    "print(\"Number of dimension(維度):\", array.ndim)\n",
    "print(\"Number of rows/columns:\", array.shape)\n",
    "print(\"Number of elements(元素個數):\", array.size)\n"
   ]
  },
  {
   "cell_type": "markdown",
   "metadata": {
    "colab_type": "text",
    "id": "Co5xF2HiTT-L"
   },
   "source": [
    "我們也能使用以下方式來產生 `ndarray`：\n",
    "\n",
    "* `numpy.arange(start, stop, step) `\n",
    "  - 在一指定範圍內根據指定間隔大小生成元素\n",
    "* `numpy.linspace(start, stop, size)`\n",
    "  - 在一指定範圍內以等量分割法生成指定數量的元素\n",
    "* `numpy.random.randint(low, high, size)`\n",
    "  - 在一指定範圍內隨機產生指定數量的元素\n",
    "* `numpy.reshape((n_row, n_column))`\n",
    "  - 將 ndarray 重新組合成指定列/行數的 ndarray"
   ]
  },
  {
   "cell_type": "code",
   "execution_count": 14,
   "metadata": {},
   "outputs": [
    {
     "name": "stdout",
     "output_type": "stream",
     "text": [
      "<class 'numpy.ndarray'>\n",
      "[0 0 0 0 0 0 0 0 0 0 0 0 0 0 0 0 0 0 0 0 0 0 0 0 0 0 0 0 0 0]\n"
     ]
    },
    {
     "data": {
      "text/plain": [
       "array([[0, 0, 0, 0, 0, 0],\n",
       "       [0, 0, 0, 0, 0, 0],\n",
       "       [0, 0, 0, 0, 0, 0],\n",
       "       [0, 0, 0, 0, 0, 0],\n",
       "       [0, 0, 0, 0, 0, 0]])"
      ]
     },
     "execution_count": 14,
     "metadata": {},
     "output_type": "execute_result"
    }
   ],
   "source": [
    "# 從 python list 產生 ndarray\n",
    "ll = [0 for x in range(0, 30, 1)]\n",
    "nda = np.array(ll)\n",
    "\n",
    "print(type(npa))\n",
    "print(nda)\n",
    "nda.reshape(5, 6)"
   ]
  },
  {
   "cell_type": "code",
   "execution_count": 30,
   "metadata": {},
   "outputs": [
    {
     "name": "stdout",
     "output_type": "stream",
     "text": [
      "[[0 0 0 0 0 0 0 0 0 0 0 0 0 0 0 0 0 0 0 0 0 0 0 0 0 0 0 0 0 0]\n",
      " [0 0 0 0 0 0 0 0 0 0 0 0 0 0 0 0 0 0 0 0 0 0 0 0 0 0 0 0 0 0]\n",
      " [0 0 0 0 0 0 0 0 0 0 0 0 0 0 0 0 0 0 0 0 0 0 0 0 0 0 0 0 0 0]\n",
      " [0 0 0 0 0 0 0 0 0 0 0 0 0 0 0 0 0 0 0 0 0 0 0 0 0 0 0 0 0 0]\n",
      " [0 0 0 0 0 0 0 0 0 0 0 0 0 0 0 0 0 0 0 0 0 0 0 0 0 0 0 0 0 0]\n",
      " [0 0 0 0 0 0 0 0 0 0 0 0 0 0 0 0 0 0 0 0 0 0 0 0 0 0 0 0 0 0]\n",
      " [0 0 0 0 0 0 0 0 0 0 0 0 0 0 0 0 0 0 0 0 0 0 0 0 0 0 0 0 0 0]\n",
      " [0 0 0 0 0 0 0 0 0 0 0 0 0 0 0 0 0 0 0 0 0 0 0 0 0 0 0 0 0 0]\n",
      " [0 0 0 0 0 0 0 0 0 0 0 0 0 0 0 0 0 0 0 0 0 0 0 0 0 0 0 0 0 0]\n",
      " [0 0 0 0 0 0 0 0 0 0 0 0 0 0 0 0 0 0 0 0 0 0 0 0 0 0 0 0 0 0]]\n"
     ]
    },
    {
     "data": {
      "text/plain": [
       "(10, 30)"
      ]
     },
     "execution_count": 30,
     "metadata": {},
     "output_type": "execute_result"
    }
   ],
   "source": [
    "# 用 list comprehension 建立二維 list\n",
    "row = 10\n",
    "col = 30\n",
    "ll = [[0 for _ in range(col)] for _ in range(row)]\n",
    "nda = np.array(ll)\n",
    "print(nda)\n",
    "nda.shape"
   ]
  },
  {
   "cell_type": "code",
   "execution_count": 0,
   "metadata": {
    "colab": {
     "base_uri": "https://localhost:8080/",
     "height": 34
    },
    "colab_type": "code",
    "executionInfo": {
     "elapsed": 1154,
     "status": "ok",
     "timestamp": 1561947419892,
     "user": {
      "displayName": "郭冠毅",
      "photoUrl": "https://lh6.googleusercontent.com/-anj3to7jxbs/AAAAAAAAAAI/AAAAAAAAAD8/N9qpSdQFRuw/s64/photo.jpg",
      "userId": "15103415347525744453"
     },
     "user_tz": -480
    },
    "id": "AbLLpC8vTT-L",
    "outputId": "3dc266ed-16ed-4ff7-e1c9-d3d0f1699789"
   },
   "outputs": [
    {
     "name": "stdout",
     "output_type": "stream",
     "text": [
      "[10 11 12 13 14 15 16 17 18 19 20 21 22 23 24 25 26 27 28 29]\n"
     ]
    }
   ],
   "source": [
    "print( np.arange(10, 30, 1) ) # 生成包含從 10 到 30 為止間隔為 1 之元素的矩陣"
   ]
  },
  {
   "cell_type": "code",
   "execution_count": 0,
   "metadata": {
    "colab": {
     "base_uri": "https://localhost:8080/",
     "height": 34
    },
    "colab_type": "code",
    "executionInfo": {
     "elapsed": 1149,
     "status": "ok",
     "timestamp": 1561947419893,
     "user": {
      "displayName": "郭冠毅",
      "photoUrl": "https://lh6.googleusercontent.com/-anj3to7jxbs/AAAAAAAAAAI/AAAAAAAAAD8/N9qpSdQFRuw/s64/photo.jpg",
      "userId": "15103415347525744453"
     },
     "user_tz": -480
    },
    "id": "xEISPyuOTT-P",
    "outputId": "bf9c7b94-184b-4dbf-f569-987e1889373a"
   },
   "outputs": [
    {
     "name": "stdout",
     "output_type": "stream",
     "text": [
      "[10 12 14 16 18 20 22 24 26 28]\n"
     ]
    }
   ],
   "source": [
    "print( np.arange(10, 30, 2) ) # 生成包含從 10 到 30 為止間隔為 2 之元素的矩陣"
   ]
  },
  {
   "cell_type": "code",
   "execution_count": 8,
   "metadata": {
    "colab": {
     "base_uri": "https://localhost:8080/",
     "height": 84
    },
    "colab_type": "code",
    "executionInfo": {
     "elapsed": 1144,
     "status": "ok",
     "timestamp": 1561947419893,
     "user": {
      "displayName": "郭冠毅",
      "photoUrl": "https://lh6.googleusercontent.com/-anj3to7jxbs/AAAAAAAAAAI/AAAAAAAAAD8/N9qpSdQFRuw/s64/photo.jpg",
      "userId": "15103415347525744453"
     },
     "user_tz": -480
    },
    "id": "M6AeIQtyTT-S",
    "outputId": "b89879fb-485f-47de-e338-42a38223b1a8"
   },
   "outputs": [
    {
     "name": "stdout",
     "output_type": "stream",
     "text": [
      "[[10 11 12 13 14]\n",
      " [15 16 17 18 19]\n",
      " [20 21 22 23 24]\n",
      " [25 26 27 28 29]]\n"
     ]
    }
   ],
   "source": [
    "print( np.arange(10, 30, 1).reshape(4, 5) ) # 生成包含從 10 到 30 為止間隔為 1 之元素的矩陣，並重新組合成 4 列 5 行的矩陣"
   ]
  },
  {
   "cell_type": "code",
   "execution_count": 38,
   "metadata": {},
   "outputs": [
    {
     "data": {
      "text/plain": [
       "array([ 1.        ,  1.18367347,  1.36734694,  1.55102041,  1.73469388,\n",
       "        1.91836735,  2.10204082,  2.28571429,  2.46938776,  2.65306122,\n",
       "        2.83673469,  3.02040816,  3.20408163,  3.3877551 ,  3.57142857,\n",
       "        3.75510204,  3.93877551,  4.12244898,  4.30612245,  4.48979592,\n",
       "        4.67346939,  4.85714286,  5.04081633,  5.2244898 ,  5.40816327,\n",
       "        5.59183673,  5.7755102 ,  5.95918367,  6.14285714,  6.32653061,\n",
       "        6.51020408,  6.69387755,  6.87755102,  7.06122449,  7.24489796,\n",
       "        7.42857143,  7.6122449 ,  7.79591837,  7.97959184,  8.16326531,\n",
       "        8.34693878,  8.53061224,  8.71428571,  8.89795918,  9.08163265,\n",
       "        9.26530612,  9.44897959,  9.63265306,  9.81632653, 10.        ])"
      ]
     },
     "execution_count": 38,
     "metadata": {},
     "output_type": "execute_result"
    }
   ],
   "source": [
    "nda = np.linspace(1, 10) # 1~10自動切成 50 等分\n",
    "type(nda)\n",
    "nda"
   ]
  },
  {
   "cell_type": "code",
   "execution_count": 42,
   "metadata": {
    "colab": {
     "base_uri": "https://localhost:8080/",
     "height": 34
    },
    "colab_type": "code",
    "executionInfo": {
     "elapsed": 1138,
     "status": "ok",
     "timestamp": 1561947419894,
     "user": {
      "displayName": "郭冠毅",
      "photoUrl": "https://lh6.googleusercontent.com/-anj3to7jxbs/AAAAAAAAAAI/AAAAAAAAAD8/N9qpSdQFRuw/s64/photo.jpg",
      "userId": "15103415347525744453"
     },
     "user_tz": -480
    },
    "id": "tiiaZ2mrTT-U",
    "outputId": "41859fd1-e3bb-4893-ad6a-954b6be149f0"
   },
   "outputs": [
    {
     "name": "stdout",
     "output_type": "stream",
     "text": [
      "[ 1.  3.  5.  7.  9. 11.]\n",
      "<class 'numpy.ndarray'>\n",
      "(6,)\n"
     ]
    }
   ],
   "source": [
    "nda = np.linspace(1, 11, 6)\n",
    "print( nda ) # 從 1 到 11 切五等分（含頭尾共 6 個元素）\n",
    "print(type(nda))\n",
    "print(nda.shape)"
   ]
  },
  {
   "cell_type": "code",
   "execution_count": 0,
   "metadata": {
    "colab": {
     "base_uri": "https://localhost:8080/",
     "height": 34
    },
    "colab_type": "code",
    "executionInfo": {
     "elapsed": 1133,
     "status": "ok",
     "timestamp": 1561947419895,
     "user": {
      "displayName": "郭冠毅",
      "photoUrl": "https://lh6.googleusercontent.com/-anj3to7jxbs/AAAAAAAAAAI/AAAAAAAAAD8/N9qpSdQFRuw/s64/photo.jpg",
      "userId": "15103415347525744453"
     },
     "user_tz": -480
    },
    "id": "56Xa1aPETT-X",
    "outputId": "756143cd-24b4-4099-9867-701d0fdd9327"
   },
   "outputs": [
    {
     "name": "stdout",
     "output_type": "stream",
     "text": [
      "[ 1.  2.  3.  4.  5.  6.  7.  8.  9. 10. 11.]\n"
     ]
    }
   ],
   "source": [
    "print( np.linspace(1, 11, 11) ) # 從 1 到 11 切十等分（含頭尾共 11 個元素）"
   ]
  },
  {
   "cell_type": "code",
   "execution_count": 0,
   "metadata": {
    "colab": {
     "base_uri": "https://localhost:8080/",
     "height": 34
    },
    "colab_type": "code",
    "executionInfo": {
     "elapsed": 1125,
     "status": "ok",
     "timestamp": 1561947419895,
     "user": {
      "displayName": "郭冠毅",
      "photoUrl": "https://lh6.googleusercontent.com/-anj3to7jxbs/AAAAAAAAAAI/AAAAAAAAAD8/N9qpSdQFRuw/s64/photo.jpg",
      "userId": "15103415347525744453"
     },
     "user_tz": -480
    },
    "id": "BNomyQpRTT-Z",
    "outputId": "8f34d92a-bf30-433f-e5e0-5a30f6e0bf8e"
   },
   "outputs": [
    {
     "name": "stdout",
     "output_type": "stream",
     "text": [
      "[8 5 7 9 4 9 6 8 7 6]\n"
     ]
    }
   ],
   "source": [
    "print( np.random.randint(low=4, high=10, size=10) ) # 在 4 到 10 的範圍內隨機產生包含 10 個元素的 ndarray"
   ]
  },
  {
   "cell_type": "markdown",
   "metadata": {
    "colab_type": "text",
    "id": "8EzNIvGATT-c"
   },
   "source": [
    "更多生成 `ndarray` 的方法可以參考[官方文件](https://docs.scipy.org/doc/numpy/user/basics.creation.html)。"
   ]
  },
  {
   "cell_type": "markdown",
   "metadata": {
    "colab_type": "text",
    "id": "qUleoAqwTT-c"
   },
   "source": [
    "### ndarray 元素選取與操作\n",
    "\n",
    "與 `DataFrame` 相同，我們可以使用 `[]` 運算子來選取與更換元素："
   ]
  },
  {
   "cell_type": "code",
   "execution_count": 43,
   "metadata": {
    "colab": {
     "base_uri": "https://localhost:8080/",
     "height": 84
    },
    "colab_type": "code",
    "executionInfo": {
     "elapsed": 1120,
     "status": "ok",
     "timestamp": 1561947419896,
     "user": {
      "displayName": "郭冠毅",
      "photoUrl": "https://lh6.googleusercontent.com/-anj3to7jxbs/AAAAAAAAAAI/AAAAAAAAAD8/N9qpSdQFRuw/s64/photo.jpg",
      "userId": "15103415347525744453"
     },
     "user_tz": -480
    },
    "id": "vdyQHkyHTT-d",
    "outputId": "11a762fc-a9f3-4919-c5b2-80baa9acc9a6"
   },
   "outputs": [
    {
     "name": "stdout",
     "output_type": "stream",
     "text": [
      "[0 1 2 3 4 5 6 7 8 9]\n",
      "[5 6 7]\n",
      "[0 1 2 3 4 7 7 7 8 9]\n",
      "[7 0 7]\n"
     ]
    }
   ],
   "source": [
    "myarr = np.arange(10)\n",
    "print(myarr)\n",
    "\n",
    "arr_slice = myarr[5:8] # 選取 myarr 索引 5~7 元素的 ndarray\n",
    "print(arr_slice)\n",
    "\n",
    "myarr[5:8] = 7  # 將 myarr 索引 5~7 的元素改為 7\n",
    "print(myarr)\n",
    "\n",
    "arr_slice[1] = 0 # 將 arr_slice 的第二個元素改為 0\n",
    "print(arr_slice)"
   ]
  },
  {
   "cell_type": "markdown",
   "metadata": {
    "colab_type": "text",
    "id": "_k8FYx8HTT-f"
   },
   "source": [
    "針對多維的矩陣，可以用 `[第一維, 第二維, ...]`的方式選取："
   ]
  },
  {
   "cell_type": "code",
   "execution_count": 45,
   "metadata": {
    "colab": {
     "base_uri": "https://localhost:8080/",
     "height": 286
    },
    "colab_type": "code",
    "executionInfo": {
     "elapsed": 1116,
     "status": "ok",
     "timestamp": 1561947419896,
     "user": {
      "displayName": "郭冠毅",
      "photoUrl": "https://lh6.googleusercontent.com/-anj3to7jxbs/AAAAAAAAAAI/AAAAAAAAAD8/N9qpSdQFRuw/s64/photo.jpg",
      "userId": "15103415347525744453"
     },
     "user_tz": -480
    },
    "id": "_7FFgTwoTT-g",
    "outputId": "d81ba202-fa0f-471c-8160-48370498ddfa"
   },
   "outputs": [
    {
     "name": "stdout",
     "output_type": "stream",
     "text": [
      "[[11 12 13 14 15]\n",
      " [16 17 18 19 20]\n",
      " [21 22 23 24 25]\n",
      " [26 27 28 29 30]] \n",
      "\n",
      "myarr[2, 3] = 24\n",
      "myarr[2] = [21 22 23 24 25]\n",
      "myarr[2][3] = 24\n",
      "myarr[2:4] = [[21 22 23 24 25]\n",
      " [26 27 28 29 30]]\n",
      "myarr[::2] = [[11 12 13 14 15]\n",
      " [21 22 23 24 25]]\n",
      "myarr[:,2] = [13 18 23 28]\n"
     ]
    }
   ],
   "source": [
    "myarr = np.arange(11, 31).reshape(4, 5)\n",
    "print(myarr, \"\\n\")\n",
    "\n",
    "print(\"myarr[2, 3] =\", myarr[2, 3]) # 選取單一元素 (別忘了 Python 的 index 是從 0 開始喔！)\n",
    "print(\"myarr[2] =\", myarr[2]) # 選取一列的所有元素 \n",
    "print(\"myarr[2][3] =\", myarr[2][3]) # 我們也可以利用兩個 [] 運算子來選擇單一元素！也就是從 myarr[2] 的結果中去選擇 index 為 3 的元素\n",
    "print(\"myarr[2:4] =\", myarr[2:4]); # 選取多列元素\n",
    "print(\"myarr[::2] =\", myarr[::2]); # 隔列選取\n",
    "print(\"myarr[:,2] =\", myarr[:,2]); # 選取單一攔，[:,2] 的意思是選擇「所有列」的 index 為「2」的元素，也就是 index 為 2 的那一欄"
   ]
  },
  {
   "cell_type": "markdown",
   "metadata": {
    "colab_type": "text",
    "id": "wmwt81L8TT-i"
   },
   "source": [
    "更多關於 Python 中 `[]` 運算子的用法，可以參考 Stack Overflow 的這篇文章：[Understanding slice notation in Python](https://stackoverflow.com/questions/509211/understanding-slice-notation)。"
   ]
  },
  {
   "cell_type": "markdown",
   "metadata": {
    "colab_type": "text",
    "id": "QgU4bv6mTT-i"
   },
   "source": [
    "## NumPy 矩陣操作與運算\n",
    "\n",
    "### NumPy 矩陣合併\n",
    "\n",
    "我們可以使用 `numpy.vstack()` 與 `numpy.hstack()` 合併兩個矩陣："
   ]
  },
  {
   "cell_type": "code",
   "execution_count": 0,
   "metadata": {
    "colab": {
     "base_uri": "https://localhost:8080/",
     "height": 67
    },
    "colab_type": "code",
    "executionInfo": {
     "elapsed": 1113,
     "status": "ok",
     "timestamp": 1561947419897,
     "user": {
      "displayName": "郭冠毅",
      "photoUrl": "https://lh6.googleusercontent.com/-anj3to7jxbs/AAAAAAAAAAI/AAAAAAAAAD8/N9qpSdQFRuw/s64/photo.jpg",
      "userId": "15103415347525744453"
     },
     "user_tz": -480
    },
    "id": "b2QaLci_TT-j",
    "outputId": "1f495adc-a9eb-40f9-8ee6-7103819dc58a"
   },
   "outputs": [
    {
     "name": "stdout",
     "output_type": "stream",
     "text": [
      "[[1 1 1]\n",
      " [2 2 2]]\n",
      "[1 1 1 2 2 2]\n"
     ]
    }
   ],
   "source": [
    "a = np.array([1,1,1])\n",
    "b = np.array([2,2,2])\n",
    "print( np.vstack((a, b)) ) # 上下(垂直)合併\n",
    "print( np.hstack((a, b)) ) # 左右(水平)合併"
   ]
  },
  {
   "cell_type": "markdown",
   "metadata": {
    "colab_type": "text",
    "id": "gqlCbIJaTT-m"
   },
   "source": [
    "### NumPy 矩陣運算\n",
    "\n",
    "以下示範 NumPy 中對矩陣的數個基本運算："
   ]
  },
  {
   "cell_type": "code",
   "execution_count": 48,
   "metadata": {
    "colab": {
     "base_uri": "https://localhost:8080/",
     "height": 118
    },
    "colab_type": "code",
    "executionInfo": {
     "elapsed": 1110,
     "status": "ok",
     "timestamp": 1561947419899,
     "user": {
      "displayName": "郭冠毅",
      "photoUrl": "https://lh6.googleusercontent.com/-anj3to7jxbs/AAAAAAAAAAI/AAAAAAAAAD8/N9qpSdQFRuw/s64/photo.jpg",
      "userId": "15103415347525744453"
     },
     "user_tz": -480
    },
    "id": "rabkq72fTT-m",
    "outputId": "835f6bd6-417f-4891-f850-fbdc480b2686"
   },
   "outputs": [
    {
     "name": "stdout",
     "output_type": "stream",
     "text": [
      "a = [10 20 30 40]\n",
      "b = [0 1 2 3]\n",
      "a + b = [10 21 32 43]\n",
      "a - b = [10 19 28 37]\n",
      "a * b = [  0  20  60 120]\n",
      "b ** 2 = [0 1 4 9]\n"
     ]
    }
   ],
   "source": [
    "a = np.array([10,20,30,40])\n",
    "b = np.arange(4)\n",
    "\n",
    "print(\"a =\", a)\n",
    "print(\"b =\", b)\n",
    "print(\"a + b =\", a + b)\n",
    "print(\"a - b =\", a - b) \n",
    "print(\"a * b =\", a * b) \n",
    "print(\"b ** 2 =\", b ** 2) # 矩陣元素平方"
   ]
  },
  {
   "cell_type": "markdown",
   "metadata": {
    "colab_type": "text",
    "id": "ZWpTS6k2TT-q"
   },
   "source": [
    "我們也可以對 `ndarray` 內的元素做條件篩選："
   ]
  },
  {
   "cell_type": "code",
   "execution_count": 0,
   "metadata": {
    "colab": {
     "base_uri": "https://localhost:8080/",
     "height": 34
    },
    "colab_type": "code",
    "executionInfo": {
     "elapsed": 1105,
     "status": "ok",
     "timestamp": 1561947419899,
     "user": {
      "displayName": "郭冠毅",
      "photoUrl": "https://lh6.googleusercontent.com/-anj3to7jxbs/AAAAAAAAAAI/AAAAAAAAAD8/N9qpSdQFRuw/s64/photo.jpg",
      "userId": "15103415347525744453"
     },
     "user_tz": -480
    },
    "id": "Wov6I5a6TT-q",
    "outputId": "a3d26e3f-d7ae-4ce5-f886-b3ea9a3be0db"
   },
   "outputs": [
    {
     "name": "stdout",
     "output_type": "stream",
     "text": [
      "[ True  True  True False]\n"
     ]
    }
   ],
   "source": [
    "print(b < 3) # b 矩陣中的元素是否小於 3？"
   ]
  },
  {
   "cell_type": "markdown",
   "metadata": {
    "colab_type": "text",
    "id": "dtmtb8bVTT-t"
   },
   "source": [
    "以及跟三角函數做運算："
   ]
  },
  {
   "cell_type": "code",
   "execution_count": 0,
   "metadata": {
    "colab": {
     "base_uri": "https://localhost:8080/",
     "height": 34
    },
    "colab_type": "code",
    "executionInfo": {
     "elapsed": 1102,
     "status": "ok",
     "timestamp": 1561947419900,
     "user": {
      "displayName": "郭冠毅",
      "photoUrl": "https://lh6.googleusercontent.com/-anj3to7jxbs/AAAAAAAAAAI/AAAAAAAAAD8/N9qpSdQFRuw/s64/photo.jpg",
      "userId": "15103415347525744453"
     },
     "user_tz": -480
    },
    "id": "g_rnokSBTT-u",
    "outputId": "850be507-2e23-47d8-ef21-1bc50f89749a"
   },
   "outputs": [
    {
     "data": {
      "text/plain": [
       "array([-5.44021111,  9.12945251, -9.88031624,  7.4511316 ])"
      ]
     },
     "execution_count": 36,
     "metadata": {
      "tags": []
     },
     "output_type": "execute_result"
    }
   ],
   "source": [
    "np.sin(a) * 10"
   ]
  },
  {
   "cell_type": "markdown",
   "metadata": {
    "colab_type": "text",
    "id": "xpV6BoiWTT-w"
   },
   "source": [
    "接著示範常用的矩陣運算："
   ]
  },
  {
   "cell_type": "code",
   "execution_count": 0,
   "metadata": {
    "colab": {
     "base_uri": "https://localhost:8080/",
     "height": 101
    },
    "colab_type": "code",
    "executionInfo": {
     "elapsed": 1100,
     "status": "ok",
     "timestamp": 1561947419901,
     "user": {
      "displayName": "郭冠毅",
      "photoUrl": "https://lh6.googleusercontent.com/-anj3to7jxbs/AAAAAAAAAAI/AAAAAAAAAD8/N9qpSdQFRuw/s64/photo.jpg",
      "userId": "15103415347525744453"
     },
     "user_tz": -480
    },
    "id": "31pnwFSCTT-w",
    "outputId": "7ae95737-fc81-4fca-c916-4676ad581383"
   },
   "outputs": [
    {
     "name": "stdout",
     "output_type": "stream",
     "text": [
      "a =\n",
      "[[1 0 2]\n",
      " [1 3 1]]\n",
      "a.flatten():\n",
      " [1 0 2 1 3 1]\n"
     ]
    }
   ],
   "source": [
    "a = np.array([[1,0,2],[1,3,1]])\n",
    "print(\"a =\"); print(a)\n",
    "print(\"a.flatten():\\n\", a.flatten() ) # 將矩陣重組為一維陣列"
   ]
  },
  {
   "cell_type": "code",
   "execution_count": 0,
   "metadata": {
    "colab": {
     "base_uri": "https://localhost:8080/",
     "height": 50
    },
    "colab_type": "code",
    "executionInfo": {
     "elapsed": 1096,
     "status": "ok",
     "timestamp": 1561947419901,
     "user": {
      "displayName": "郭冠毅",
      "photoUrl": "https://lh6.googleusercontent.com/-anj3to7jxbs/AAAAAAAAAAI/AAAAAAAAAD8/N9qpSdQFRuw/s64/photo.jpg",
      "userId": "15103415347525744453"
     },
     "user_tz": -480
    },
    "id": "Czq0S0OcTT-y",
    "outputId": "7d3095b1-9fba-4ab5-fe66-da78d2e26fa6"
   },
   "outputs": [
    {
     "name": "stdout",
     "output_type": "stream",
     "text": [
      "a = [ 2  3  4  5  6  7  8  9 10 11 12 13]\n",
      "a 的累計和 = [ 2  5  9 14 20 27 35 44 54 65 77 90]\n"
     ]
    }
   ],
   "source": [
    "a = np.arange(2, 14)\n",
    "print(\"a =\", a)\n",
    "print(\"a 的累計和 =\", np.cumsum(a) ) # a 中元素的累計和 (cumulative sum)"
   ]
  },
  {
   "cell_type": "code",
   "execution_count": 0,
   "metadata": {
    "colab": {
     "base_uri": "https://localhost:8080/",
     "height": 67
    },
    "colab_type": "code",
    "executionInfo": {
     "elapsed": 1092,
     "status": "ok",
     "timestamp": 1561947419902,
     "user": {
      "displayName": "郭冠毅",
      "photoUrl": "https://lh6.googleusercontent.com/-anj3to7jxbs/AAAAAAAAAAI/AAAAAAAAAD8/N9qpSdQFRuw/s64/photo.jpg",
      "userId": "15103415347525744453"
     },
     "user_tz": -480
    },
    "id": "ujyyJ8JrTT-0",
    "outputId": "e32fb15c-b7d4-49d4-93c8-5d3159456189"
   },
   "outputs": [
    {
     "name": "stdout",
     "output_type": "stream",
     "text": [
      "a = [0 1 2 3 4 5 6 7 8]\n",
      "np.diff(a): [1 1 1 1 1 1 1 1]\n",
      "np.diff(a.cumsum()): [1 2 3 4 5 6 7 8]\n"
     ]
    }
   ],
   "source": [
    "a = np.arange(9)\n",
    "a_diff = np.diff(a) # 兩兩元素差(後一項減去前一項的差)\n",
    "\n",
    "print(\"a =\", a)\n",
    "print(\"np.diff(a):\", a_diff)\n",
    "print(\"np.diff(a.cumsum()):\", np.diff(a.cumsum()))"
   ]
  },
  {
   "cell_type": "code",
   "execution_count": 0,
   "metadata": {
    "colab": {
     "base_uri": "https://localhost:8080/",
     "height": 252
    },
    "colab_type": "code",
    "executionInfo": {
     "elapsed": 1086,
     "status": "ok",
     "timestamp": 1561947419902,
     "user": {
      "displayName": "郭冠毅",
      "photoUrl": "https://lh6.googleusercontent.com/-anj3to7jxbs/AAAAAAAAAAI/AAAAAAAAAD8/N9qpSdQFRuw/s64/photo.jpg",
      "userId": "15103415347525744453"
     },
     "user_tz": -480
    },
    "id": "FPLp4FDITT-2",
    "outputId": "3a799ae9-80c9-4ce5-e2f5-271e097afcc9"
   },
   "outputs": [
    {
     "name": "stdout",
     "output_type": "stream",
     "text": [
      "a =\n",
      "[[1 0 2]\n",
      " [1 3 1]]\n",
      "b =\n",
      "[[3 1]\n",
      " [2 1]\n",
      " [1 0]]\n",
      "b.dot(a):\n",
      "[[4 3 7]\n",
      " [3 3 5]\n",
      " [1 0 2]]\n",
      "np.sort(a):\n",
      "[[0 1 2]\n",
      " [1 1 3]]\n"
     ]
    }
   ],
   "source": [
    "a = np.array([[1,0,2],[1,3,1]])\n",
    "b = np.array([[3,1],[2,1],[1,0]])\n",
    "\n",
    "print(\"a =\"); print(a)\n",
    "print(\"b =\"); print(b)\n",
    "print(\"b.dot(a):\"); print(b.dot(a)) # 矩陣 b 乘 a\n",
    "print(\"np.sort(a):\"); print(np.sort(a)) # 對矩陣的元素進行排序"
   ]
  },
  {
   "cell_type": "code",
   "execution_count": 0,
   "metadata": {
    "colab": {
     "base_uri": "https://localhost:8080/",
     "height": 302
    },
    "colab_type": "code",
    "executionInfo": {
     "elapsed": 1368,
     "status": "ok",
     "timestamp": 1561947420189,
     "user": {
      "displayName": "郭冠毅",
      "photoUrl": "https://lh6.googleusercontent.com/-anj3to7jxbs/AAAAAAAAAAI/AAAAAAAAAD8/N9qpSdQFRuw/s64/photo.jpg",
      "userId": "15103415347525744453"
     },
     "user_tz": -480
    },
    "id": "PJTMU7t5TT-6",
    "outputId": "d4a973be-7ea3-4665-b71b-db1a383c957b"
   },
   "outputs": [
    {
     "name": "stdout",
     "output_type": "stream",
     "text": [
      "a =\n",
      "[[1 0 2]\n",
      " [1 3 1]]\n",
      "np.nonzero(a): (array([0, 0, 1, 1, 1]), array([0, 2, 0, 1, 2]))\n",
      "矩陣 a 中的以下元素不為零：\n",
      "a[0][0]\n",
      "a[0][2]\n",
      "a[1][0]\n",
      "a[1][1]\n",
      "a[1][2]\n",
      "np.transpose(a):\n",
      "[[1 1]\n",
      " [0 3]\n",
      " [2 1]]\n",
      "np.clip(a, 1, 2):\n",
      "[[1 1 2]\n",
      " [1 2 1]]\n"
     ]
    }
   ],
   "source": [
    "a = np.array([[1,0,2],[1,3,1]])\n",
    "a_nonzero = np.nonzero(a) \n",
    "\n",
    "print(\"a =\\n{}\".format(a))\n",
    "print(\"np.nonzero(a):\", np.nonzero(a)) # 不為 0 的位置\n",
    "print(\"矩陣 a 中的以下元素不為零：\")\n",
    "rows, cols = a_nonzero\n",
    "for i in range(rows.size):\n",
    "    print(\"a[{}][{}]\".format(rows[i], cols[i]))\n",
    "\n",
    "print(\"np.transpose(a):\"); print(np.transpose(a)) # 行列互換\n",
    "print(\"np.clip(a, 1, 2):\"); print(np.clip(a, 1, 2)) # 限制矩陣內的元素值在特定範圍內，以此例而言，元素小於 1 者均重設為 1，大於 2 者均重設為 2"
   ]
  },
  {
   "cell_type": "markdown",
   "metadata": {
    "colab_type": "text",
    "id": "dZf7F-ynTT-8"
   },
   "source": [
    "## NumPy 基本統計\n",
    "\n",
    "NumPy 也跟 pandas 一樣，可以輸出 `ndarray` 內的幾個基本統計指標：\n",
    "\n",
    "* `mean() `\n",
    "  - 取所有元素平均值\n",
    "* `sum() `\n",
    "  - 所有元素總和\n",
    "* `min() `\n",
    "  - 所有元素最小值\n",
    "* `max() `\n",
    "  - 所有元素最大值\n",
    "* `std()`\n",
    "  - 所有元素的標準差"
   ]
  },
  {
   "cell_type": "code",
   "execution_count": 0,
   "metadata": {
    "colab": {
     "base_uri": "https://localhost:8080/",
     "height": 134
    },
    "colab_type": "code",
    "executionInfo": {
     "elapsed": 1365,
     "status": "ok",
     "timestamp": 1561947420191,
     "user": {
      "displayName": "郭冠毅",
      "photoUrl": "https://lh6.googleusercontent.com/-anj3to7jxbs/AAAAAAAAAAI/AAAAAAAAAD8/N9qpSdQFRuw/s64/photo.jpg",
      "userId": "15103415347525744453"
     },
     "user_tz": -480
    },
    "id": "D0AquznqTT-8",
    "outputId": "500f0604-2215-47ef-b10f-ca0f667f7e9b"
   },
   "outputs": [
    {
     "name": "stdout",
     "output_type": "stream",
     "text": [
      "a = [55 16 56 36  3 72 29 91 76 60 29 38 67 91 91 43 39 45 72 66]\n",
      "sorted a = [ 3 16 29 29 36 38 39 43 45 55 56 60 66 67 72 72 76 91 91 91]\n",
      "a.mean(): 53.75\n",
      "a.sum(): 1075\n",
      "a.min(): 3\n",
      "a.max(): 91\n",
      "a.std(): 24.38621536852326\n"
     ]
    }
   ],
   "source": [
    "a = np.random.randint(low=1, high=100, size=20)\n",
    "\n",
    "print(\"a =\", a)\n",
    "print(\"sorted a =\", np.sort(a))\n",
    "print(\"a.mean():\", a.mean())\n",
    "print(\"a.sum():\", a.sum())\n",
    "print(\"a.min():\", a.min())\n",
    "print(\"a.max():\", a.max())\n",
    "print(\"a.std():\", a.std())"
   ]
  },
  {
   "cell_type": "markdown",
   "metadata": {
    "colab_type": "text",
    "id": "1EcFvyjwTT--"
   },
   "source": [
    "NumPy 與 `ndarray` 還有許許多多的函式可供使用，有興趣的讀者可以參考以下官方資源：\n",
    "\n",
    "* [NumPy User Guide](https://docs.scipy.org/doc/numpy/user/index.html)\n",
    "* [NumPy API Reference](https://docs.scipy.org/doc/numpy/reference/)\n",
    "* [The N-dimensional array (ndarray) API Reference](https://docs.scipy.org/doc/numpy/reference/arrays.ndarray.html)"
   ]
  },
  {
   "cell_type": "markdown",
   "metadata": {},
   "source": [
    "## 本課程由成大與台南二中共同開發的人工智慧高中教材改編"
   ]
  }
 ],
 "metadata": {
  "kernelspec": {
   "display_name": "Python 3",
   "language": "python",
   "name": "python3"
  },
  "language_info": {
   "codemirror_mode": {
    "name": "ipython",
    "version": 3
   },
   "file_extension": ".py",
   "mimetype": "text/x-python",
   "name": "python",
   "nbconvert_exporter": "python",
   "pygments_lexer": "ipython3",
   "version": "3.6.5"
  }
 },
 "nbformat": 4,
 "nbformat_minor": 2
}
